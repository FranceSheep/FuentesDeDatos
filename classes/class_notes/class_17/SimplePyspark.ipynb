{
 "cells": [
  {
   "cell_type": "code",
   "execution_count": 9,
   "id": "9a4e9c6a",
   "metadata": {},
   "outputs": [
    {
     "data": {
      "text/html": [
       "<style>pre { white-space: pre !important; }</style>"
      ],
      "text/plain": [
       "<IPython.core.display.HTML object>"
      ]
     },
     "metadata": {},
     "output_type": "display_data"
    }
   ],
   "source": [
    "import pyspark.sql.functions as F\n",
    "import pyspark.sql.window as Window\n",
    "from IPython.core.display import HTML\n",
    "display(HTML(\"<style>pre { white-space: pre !important; }</style>\"))"
   ]
  },
  {
   "cell_type": "code",
   "execution_count": 5,
   "id": "b16fe4fb",
   "metadata": {},
   "outputs": [],
   "source": [
    "data = spark.read.csv('./data/college.csv', \n",
    "                      inferSchema=True, \n",
    "                      header=True)"
   ]
  },
  {
   "cell_type": "code",
   "execution_count": 7,
   "id": "29b33e63",
   "metadata": {},
   "outputs": [
    {
     "data": {
      "text/plain": [
       "[('INSTNM', 'string'),\n",
       " ('CITY', 'string'),\n",
       " ('STABBR', 'string'),\n",
       " ('HBCU', 'double'),\n",
       " ('MENONLY', 'double')]"
      ]
     },
     "execution_count": 7,
     "metadata": {},
     "output_type": "execute_result"
    }
   ],
   "source": [
    "data.dtypes[:5]"
   ]
  },
  {
   "cell_type": "code",
   "execution_count": 61,
   "id": "3d912e85",
   "metadata": {},
   "outputs": [
    {
     "name": "stdout",
     "output_type": "stream",
     "text": [
      "+-----------------------------------+----------+------+----+-------+---------+--------+--------+--------+------------+-------+----------+----------+---------+----------+---------+---------+---------+--------+---------+--------+--------+-------------------+--------+------------------+---------------+------------------+\n",
      "|INSTNM                             |CITY      |STABBR|HBCU|MENONLY|WOMENONLY|RELAFFIL|SATVRMID|SATMTMID|DISTANCEONLY|UGDS   |UGDS_WHITE|UGDS_BLACK|UGDS_HISP|UGDS_ASIAN|UGDS_AIAN|UGDS_NHPI|UGDS_2MOR|UGDS_NRA|UGDS_UNKN|PPTUG_EF|CURROPER|PCTPELL            |PCTFLOAN|UG25ABV           |MD_EARN_WNE_P10|GRAD_DEBT_MDN_SUPP|\n",
      "+-----------------------------------+----------+------+----+-------+---------+--------+--------+--------+------------+-------+----------+----------+---------+----------+---------+---------+---------+--------+---------+--------+--------+-------------------+--------+------------------+---------------+------------------+\n",
      "|Alabama A & M University           |Normal    |AL    |1.0 |0.0    |0.0      |0       |424.0   |420.0   |0.0         |4206.0 |0.0333    |0.9353    |0.0055   |0.0019    |0.0024   |0.0019   |0.0      |0.0059  |0.0138   |0.0656  |1       |0.7356             |0.8284  |0.1049            |30300          |33888             |\n",
      "|University of Alabama at Birmingham|Birmingham|AL    |0.0 |0.0    |0.0      |0       |570.0   |565.0   |0.0         |11383.0|0.5922    |0.26      |0.0283   |0.0518    |0.0022   |7.0E-4   |0.0368   |0.0179  |0.01     |0.2607  |1       |0.34600000000000003|0.5214  |0.2422            |39700          |21941.5           |\n",
      "|Amridge University                 |Montgomery|AL    |0.0 |0.0    |0.0      |1       |null    |null    |1.0         |291.0  |0.299     |0.4192    |0.0069   |0.0034    |0.0      |0.0      |0.0      |0.0     |0.2715   |0.4536  |1       |0.6801             |0.7795  |0.8540000000000001|40100          |23370             |\n",
      "|University of Alabama in Huntsville|Huntsville|AL    |0.0 |0.0    |0.0      |0       |595.0   |590.0   |0.0         |5451.0 |0.6988    |0.1255    |0.0382   |0.0376    |0.0143   |2.0E-4   |0.0172   |0.0332  |0.035    |0.2146  |1       |0.3072             |0.4596  |0.264             |45500          |24097             |\n",
      "|Alabama State University           |Montgomery|AL    |1.0 |0.0    |0.0      |0       |425.0   |430.0   |0.0         |4811.0 |0.0158    |0.9208    |0.0121   |0.0019    |0.001    |6.0E-4   |0.0098   |0.0243  |0.0137   |0.0892  |1       |0.7347             |0.7554  |0.127             |26600          |33118.5           |\n",
      "+-----------------------------------+----------+------+----+-------+---------+--------+--------+--------+------------+-------+----------+----------+---------+----------+---------+---------+---------+--------+---------+--------+--------+-------------------+--------+------------------+---------------+------------------+\n",
      "only showing top 5 rows\n",
      "\n"
     ]
    }
   ],
   "source": [
    "data.show(5, truncate=False)"
   ]
  },
  {
   "cell_type": "code",
   "execution_count": 49,
   "id": "588050fa",
   "metadata": {},
   "outputs": [
    {
     "data": {
      "text/plain": [
       "[('INSTNM', 'string'),\n",
       " ('CITY', 'string'),\n",
       " ('STABBR', 'string'),\n",
       " ('HBCU', 'double'),\n",
       " ('MENONLY', 'double'),\n",
       " ('WOMENONLY', 'double'),\n",
       " ('RELAFFIL', 'int'),\n",
       " ('SATVRMID', 'double'),\n",
       " ('SATMTMID', 'double'),\n",
       " ('DISTANCEONLY', 'double'),\n",
       " ('UGDS', 'double'),\n",
       " ('UGDS_WHITE', 'double'),\n",
       " ('UGDS_BLACK', 'double'),\n",
       " ('UGDS_HISP', 'double'),\n",
       " ('UGDS_ASIAN', 'double'),\n",
       " ('UGDS_AIAN', 'double'),\n",
       " ('UGDS_NHPI', 'double'),\n",
       " ('UGDS_2MOR', 'double'),\n",
       " ('UGDS_NRA', 'double'),\n",
       " ('UGDS_UNKN', 'double'),\n",
       " ('PPTUG_EF', 'double'),\n",
       " ('CURROPER', 'int'),\n",
       " ('PCTPELL', 'double'),\n",
       " ('PCTFLOAN', 'double'),\n",
       " ('UG25ABV', 'double'),\n",
       " ('MD_EARN_WNE_P10', 'string'),\n",
       " ('GRAD_DEBT_MDN_SUPP', 'string')]"
      ]
     },
     "execution_count": 49,
     "metadata": {},
     "output_type": "execute_result"
    }
   ],
   "source": [
    "data.dtypes"
   ]
  },
  {
   "cell_type": "code",
   "execution_count": 51,
   "id": "a7083238",
   "metadata": {},
   "outputs": [
    {
     "name": "stderr",
     "output_type": "stream",
     "text": [
      "\r",
      "[Stage 76:>                                                         (0 + 1) / 1]\r"
     ]
    },
    {
     "name": "stdout",
     "output_type": "stream",
     "text": [
      "+-------+-------------------+--------------------+-------------------+-------------------+-----------------+-----------------+--------------------+-----------------+-------------------+-------------------+-------------------+-------------------+--------------------+--------------------+--------------------+-------------------+-------------------+-------------------+-------------------+-------------------+-------------------+-------------------+\n",
      "|summary|               HBCU|             MENONLY|          WOMENONLY|           RELAFFIL|         SATVRMID|         SATMTMID|        DISTANCEONLY|             UGDS|         UGDS_WHITE|         UGDS_BLACK|          UGDS_HISP|         UGDS_ASIAN|           UGDS_AIAN|           UGDS_NHPI|           UGDS_2MOR|           UGDS_NRA|          UGDS_UNKN|           PPTUG_EF|           CURROPER|            PCTPELL|           PCTFLOAN|            UG25ABV|\n",
      "+-------+-------------------+--------------------+-------------------+-------------------+-----------------+-----------------+--------------------+-----------------+-------------------+-------------------+-------------------+-------------------+--------------------+--------------------+--------------------+-------------------+-------------------+-------------------+-------------------+-------------------+-------------------+-------------------+\n",
      "|  count|               7164|                7164|               7164|               7535|             1185|             1196|                7164|             6874|               6874|               6874|               6874|               6874|                6874|                6874|                6874|               6874|               6874|               6853|               7535|               6849|               6849|               6718|\n",
      "|   mean|0.01423785594639866|0.009212730318257957|0.00530429927414852| 0.1909754479097545|522.8194092827005|530.7650501672241|0.005583472920156337|2356.837940064009| 0.5102072010474248|0.18999663951120205|0.16163488507419324|0.03354423916205993|0.013812569100960192|0.004568897294151879|0.023950305498981615| 0.0160858161187082|  0.045181437299971| 0.2266389902232603| 0.9232913072329131| 0.5306430573806403| 0.5222108628996915| 0.4100211967847576|\n",
      "| stddev|0.11847826297880011| 0.09554648201072519| 0.0726422760457207|0.39309583277879806|68.57886164740165|73.46976709551086| 0.07451894313601272|5474.275870632889|0.28695834903894757|0.22458651800562898|0.22185379066843286|0.07377719782421899| 0.07019573508565183| 0.03312507640414386| 0.03128804780970744|0.05017188538793532|0.09344040909896799|0.24647019742119708|0.26614633168118457|0.22554435581863772|0.28361552087576164|0.22893916570392295|\n",
      "|    min|                0.0|                 0.0|                0.0|                  0|            290.0|            310.0|                 0.0|              0.0|                0.0|                0.0|                0.0|                0.0|                 0.0|                 0.0|                 0.0|                0.0|                0.0|                0.0|                  0|                0.0|                0.0|                0.0|\n",
      "|    max|                1.0|                 1.0|                1.0|                  1|            765.0|            785.0|                 1.0|         151558.0|                1.0|                1.0|                1.0|             0.9727|                 1.0|              0.9983|              0.5333|             0.9286|             0.9027|                1.0|                  1|                1.0|                1.0|                1.0|\n",
      "+-------+-------------------+--------------------+-------------------+-------------------+-----------------+-----------------+--------------------+-----------------+-------------------+-------------------+-------------------+-------------------+--------------------+--------------------+--------------------+-------------------+-------------------+-------------------+-------------------+-------------------+-------------------+-------------------+\n",
      "\n"
     ]
    },
    {
     "name": "stderr",
     "output_type": "stream",
     "text": [
      "\r",
      "                                                                                \r"
     ]
    }
   ],
   "source": [
    "# drop_duplicates -> dropDuplicates\n",
    "# groupby -> groupBy\n",
    "# orderBy\n",
    "(data.select([F.col(c) for c, t in data.dtypes if t in ['int', 'double']])).describe().show()"
   ]
  },
  {
   "cell_type": "code",
   "execution_count": 56,
   "id": "38f31e91",
   "metadata": {},
   "outputs": [],
   "source": [
    "from pyspark.sql.types import IntegerType"
   ]
  },
  {
   "cell_type": "code",
   "execution_count": 60,
   "id": "ad4c0a5f",
   "metadata": {},
   "outputs": [
    {
     "name": "stdout",
     "output_type": "stream",
     "text": [
      "+---------------------+\n",
      "|unique_vowels_in_city|\n",
      "+---------------------+\n",
      "|                    2|\n",
      "|                    2|\n",
      "|                    2|\n",
      "|                    3|\n",
      "|                    2|\n",
      "|                    3|\n",
      "|                    3|\n",
      "|                    1|\n",
      "|                    2|\n",
      "|                    1|\n",
      "|                    2|\n",
      "|                    2|\n",
      "|                    2|\n",
      "|                    2|\n",
      "|                    2|\n",
      "|                    3|\n",
      "|                    2|\n",
      "|                    2|\n",
      "|                    2|\n",
      "|                    2|\n",
      "+---------------------+\n",
      "only showing top 20 rows\n",
      "\n"
     ]
    }
   ],
   "source": [
    "(data\n",
    " .select(F.udf(lambda x: len(set(x) & set('aeiou')))('CITY').cast('int').alias('unique_vowels_in_city'))\n",
    ").show()"
   ]
  },
  {
   "cell_type": "code",
   "execution_count": 44,
   "id": "cbb6f665",
   "metadata": {},
   "outputs": [],
   "source": [
    "?F.regexp_extract"
   ]
  },
  {
   "cell_type": "code",
   "execution_count": null,
   "id": "849bc007",
   "metadata": {},
   "outputs": [],
   "source": []
  }
 ],
 "metadata": {
  "kernelspec": {
   "display_name": "Python 3 (ipykernel)",
   "language": "python",
   "name": "python3"
  },
  "language_info": {
   "codemirror_mode": {
    "name": "ipython",
    "version": 3
   },
   "file_extension": ".py",
   "mimetype": "text/x-python",
   "name": "python",
   "nbconvert_exporter": "python",
   "pygments_lexer": "ipython3",
   "version": "3.7.11"
  }
 },
 "nbformat": 4,
 "nbformat_minor": 5
}
